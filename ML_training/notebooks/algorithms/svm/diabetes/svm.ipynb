{
 "cells": [
  {
   "cell_type": "code",
   "execution_count": 1,
   "id": "237f7cb9",
   "metadata": {},
   "outputs": [],
   "source": [
    "from sklearn.svm import SVC\n",
    "from sklearn.model_selection import KFold, cross_val_score\n",
    "from sklearn.metrics import accuracy_score, confusion_matrix, classification_report\n",
    "import pandas as pd"
   ]
  },
  {
   "cell_type": "code",
   "execution_count": null,
   "id": "695c440e",
   "metadata": {},
   "outputs": [],
   "source": [
    "X_train = pd.read_csv(\"../../../../data/processed/diabetes/x_train.csv\", header=None).values\n",
    "y_train = pd.read_csv(\"../../../../data/processed/diabetes/y_train.csv\", header=None).values.flatten()\n",
    "X = pd.read_csv(\"../../../../data/processed/diabetes/x.csv\", header=None).values\n",
    "y = pd.read_csv(\"../../../../data/processed/diabetes/y.csv\", header=None).values.flatten()\n",
    "\n",
    "X_test = pd.read_csv(\"../../../../data/processed/diabetes/x_test.csv\", header=None).values\n",
    "y_test = pd.read_csv(\"../../../../data/processed/diabetes/y_test.csv\", header=None).values.flatten()"
   ]
  },
  {
   "cell_type": "code",
   "execution_count": null,
   "id": "bf97f7e6",
   "metadata": {},
   "outputs": [],
   "source": [
    "#Treinamento\n",
    "\n",
    "svm = SVC(kernel='rbf', random_state=1, C=20)\n",
    "svm.fit(X_train, y_train)"
   ]
  },
  {
   "cell_type": "code",
   "execution_count": 5,
   "id": "3f6bb5af",
   "metadata": {},
   "outputs": [],
   "source": [
    "#Predict\n",
    "\n",
    "predict = svm.predict(X_test)"
   ]
  },
  {
   "cell_type": "code",
   "execution_count": 6,
   "id": "89e9427c",
   "metadata": {},
   "outputs": [
    {
     "name": "stdout",
     "output_type": "stream",
     "text": [
      "Acurácia: 96.43%\n"
     ]
    }
   ],
   "source": [
    "print(\"Acurácia: %.2f%%\" % (accuracy_score(y_test, predict) * 100))"
   ]
  },
  {
   "cell_type": "code",
   "execution_count": 7,
   "id": "0d7861bd",
   "metadata": {},
   "outputs": [
    {
     "data": {
      "text/plain": [
       "array([[27412,    38],\n",
       "       [ 1034,  1516]])"
      ]
     },
     "execution_count": 7,
     "metadata": {},
     "output_type": "execute_result"
    }
   ],
   "source": [
    "confusion_matrix(y_test, predict)"
   ]
  },
  {
   "cell_type": "code",
   "execution_count": 8,
   "id": "ad37d43b",
   "metadata": {},
   "outputs": [
    {
     "name": "stdout",
     "output_type": "stream",
     "text": [
      "              precision    recall  f1-score   support\n",
      "\n",
      "           0       0.96      1.00      0.98     27450\n",
      "           1       0.98      0.59      0.74      2550\n",
      "\n",
      "    accuracy                           0.96     30000\n",
      "   macro avg       0.97      0.80      0.86     30000\n",
      "weighted avg       0.96      0.96      0.96     30000\n",
      "\n"
     ]
    }
   ],
   "source": [
    "print(classification_report(y_test, predict))"
   ]
  },
  {
   "cell_type": "code",
   "execution_count": 9,
   "id": "e3c35a40",
   "metadata": {},
   "outputs": [],
   "source": [
    "predict_train = svm.predict(X_train)"
   ]
  },
  {
   "cell_type": "code",
   "execution_count": 10,
   "id": "73e57662",
   "metadata": {},
   "outputs": [
    {
     "data": {
      "text/plain": [
       "0.9637714285714286"
      ]
     },
     "execution_count": 10,
     "metadata": {},
     "output_type": "execute_result"
    }
   ],
   "source": [
    "accuracy_score(y_train, predict_train)"
   ]
  },
  {
   "cell_type": "code",
   "execution_count": 11,
   "id": "a66e8541",
   "metadata": {},
   "outputs": [
    {
     "name": "stdout",
     "output_type": "stream",
     "text": [
      "Acurácia Média: 96.35%\n"
     ]
    }
   ],
   "source": [
    "#Validação Cruzada\n",
    "\n",
    "kfold = KFold(n_splits= 30, shuffle=True, random_state=5)\n",
    "modelo = SVC(kernel = 'rbf', random_state=1, C = 20)\n",
    "result = cross_val_score(modelo, X, y, cv= kfold)\n",
    "\n",
    "print(\"Acurácia Média: %.2f%%\" % (result.mean() * 100))\n"
   ]
  }
 ],
 "metadata": {
  "kernelspec": {
   "display_name": ".venv",
   "language": "python",
   "name": "python3"
  },
  "language_info": {
   "codemirror_mode": {
    "name": "ipython",
    "version": 3
   },
   "file_extension": ".py",
   "mimetype": "text/x-python",
   "name": "python",
   "nbconvert_exporter": "python",
   "pygments_lexer": "ipython3",
   "version": "3.12.3"
  }
 },
 "nbformat": 4,
 "nbformat_minor": 5
}
